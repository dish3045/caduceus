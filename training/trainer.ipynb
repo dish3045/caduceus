{
  "cells": [
    {
      "cell_type": "code",
      "execution_count": null,
      "metadata": {
        "colab": {
          "base_uri": "https://localhost:8080/"
        },
        "id": "_vPEDQaNW1jY",
        "outputId": "889953db-db71-4337-adab-80ec17656ed2"
      },
      "outputs": [],
      "source": [
        "# !pip install --force-reinstall transformers datasets evaluate scikit-learn accelerate --no-build-isolation"
      ]
    },
    {
      "cell_type": "code",
      "execution_count": null,
      "metadata": {
        "id": "15NjoCNMaIe8"
      },
      "outputs": [],
      "source": [
        "import os\n",
        "notebook_path = os.path.abspath(\"trainer.ipynb\")\n",
        "train_csv = os.path.join(os.path.dirname(notebook_path), \"datasets/clinvar_sequence_disease_clean.csv\")\n",
        "\n",
        "# from google.colab import files\n",
        "# uploaded = files.upload()"
      ]
    },
    {
      "cell_type": "code",
      "execution_count": null,
      "metadata": {
        "id": "Qg6lCDKtuofy"
      },
      "outputs": [],
      "source": [
        "# !pip uninstall -y torch torchvision torchaudio\n",
        "# !pip install torch==2.4.0 torchvision==0.19.0 torchaudio==2.4.0 --index-url https://download.pytorch.org/whl/cu121\n",
        "# !pip install causal-conv1d==1.4.0 && pip install mamba-ssm==2.2.2"
      ]
    },
    {
      "cell_type": "code",
      "execution_count": null,
      "metadata": {
        "id": "PlPrUEYbbMA3"
      },
      "outputs": [],
      "source": [
        "import pandas as pd\n",
        "from sklearn.model_selection import train_test_split\n",
        "from sklearn.preprocessing import MultiLabelBinarizer\n",
        "import torch\n",
        "from torch.utils.data import Dataset\n",
        "from transformers import AutoTokenizer, AutoModelForSequenceClassification, Trainer, TrainingArguments\n",
        "import evaluate\n",
        "import numpy as np"
      ]
    },
    {
      "cell_type": "code",
      "execution_count": null,
      "metadata": {
        "id": "MVD3eDSQbY0E"
      },
      "outputs": [],
      "source": [
        "df = pd.read_csv(\"clinvar_sequence_disease_clean.csv\")\n",
        "\n",
        "df = df.dropna(subset=[\"sequence\", \"disease_labels\"])\n",
        "df[\"disease_labels\"] = df[\"disease_labels\"].astype(str)\n",
        "\n",
        "df[\"disease_labels\"] = df[\"disease_labels\"].apply(\n",
        "    lambda x: [d.strip() for d in x.split(\",\") if d.strip()]\n",
        ")\n",
        "\n",
        "df = df[df[\"disease_labels\"].map(len) > 0]\n",
        "\n",
        "train_df, test_df = train_test_split(df, test_size=0.2, random_state=42)\n",
        "\n",
        "mlb = MultiLabelBinarizer()\n",
        "train_labels = mlb.fit_transform(train_df[\"disease_labels\"])\n",
        "test_labels = mlb.transform(test_df[\"disease_labels\"])"
      ]
    },
    {
      "cell_type": "code",
      "execution_count": null,
      "metadata": {
        "id": "IrwTZkercHB1"
      },
      "outputs": [],
      "source": [
        "class SequenceDiseaseDataset(Dataset):\n",
        "    def __init__(self, sequences, labels, tokenizer, max_length=512):\n",
        "        self.sequences = sequences\n",
        "        self.labels = labels\n",
        "        self.tokenizer = tokenizer\n",
        "        self.max_length = max_length\n",
        "\n",
        "    def __len__(self):\n",
        "        return len(self.sequences)\n",
        "\n",
        "    def __getitem__(self, idx):\n",
        "        seq = str(self.sequences[idx])\n",
        "        label = self.labels[idx]\n",
        "        encoding = self.tokenizer(\n",
        "          seq,\n",
        "          truncation=True,\n",
        "          padding=\"max_length\",\n",
        "          max_length=self.max_length,\n",
        "          return_tensors=\"pt\",\n",
        "          return_attention_mask=True\n",
        "        )\n",
        "        return {\n",
        "            \"input_ids\": encoding[\"input_ids\"].flatten(),\n",
        "            \"attention_mask\": encoding[\"attention_mask\"].flatten(),\n",
        "            \"labels\": torch.tensor(label, dtype=torch.float)\n",
        "        }"
      ]
    },
    {
      "cell_type": "code",
      "execution_count": null,
      "metadata": {
        "id": "Dd_oW72icJP_"
      },
      "outputs": [],
      "source": [
        "model_name = \"kuleshov-group/caduceus-ps_seqlen-131k_d_model-256_n_layer-16\"\n",
        "tokenizer = AutoTokenizer.from_pretrained(model_name)\n",
        "\n",
        "train_dataset = SequenceDiseaseDataset(train_df[\"sequence\"].tolist(), train_labels, tokenizer)\n",
        "test_dataset = SequenceDiseaseDataset(test_df[\"sequence\"].tolist(), test_labels, tokenizer)"
      ]
    },
    {
      "cell_type": "code",
      "execution_count": null,
      "metadata": {
        "id": "VEvMnKSncPqz"
      },
      "outputs": [],
      "source": [
        "model = AutoModelForSequenceClassification.from_pretrained(\n",
        "    model_name,\n",
        "    num_labels=len(mlb.classes_),\n",
        "    problem_type=\"multi_label_classification\"\n",
        ")"
      ]
    },
    {
      "cell_type": "code",
      "execution_count": null,
      "metadata": {
        "id": "KH1EqSnlygxa"
      },
      "outputs": [],
      "source": [
        "metric_f1 = evaluate.load(\"f1\")\n",
        "metric_accuracy = evaluate.load(\"accuracy\")\n",
        "\n",
        "def compute_metrics(eval_pred):\n",
        "    logits, labels = eval_pred\n",
        "    preds = (torch.sigmoid(torch.tensor(logits)) > 0.5).int().numpy()\n",
        "    labels = labels.astype(int)\n",
        "    f1 = metric_f1.compute(predictions=preds, references=labels, average=\"micro\")[\"f1\"]\n",
        "    acc = metric_accuracy.compute(predictions=preds, references=labels)[\"accuracy\"]\n",
        "    return {\"f1\": f1, \"accuracy\": acc}"
      ]
    },
    {
      "cell_type": "code",
      "execution_count": null,
      "metadata": {
        "id": "FfBrbqZ1ykL7"
      },
      "outputs": [],
      "source": [
        "from transformers import DataCollatorWithPadding\n",
        "\n",
        "data_collator = DataCollatorWithPadding(tokenizer=tokenizer)\n",
        "\n",
        "training_args = TrainingArguments(\n",
        "    output_dir=\"./results\",\n",
        "    eval_strategy=\"epoch\",\n",
        "    save_strategy=\"epoch\",\n",
        "    learning_rate=5e-5,\n",
        "    per_device_train_batch_size=4,\n",
        "    per_device_eval_batch_size=4,\n",
        "    num_train_epochs=3,\n",
        "    weight_decay=0.01,\n",
        "    load_best_model_at_end=True,\n",
        "    metric_for_best_model=\"f1\",\n",
        "    save_total_limit=1,\n",
        "    report_to=\"none\",\n",
        "    remove_unused_columns=False,\n",
        ")\n",
        "\n",
        "trainer = Trainer(\n",
        "    model=model,\n",
        "    args=training_args,\n",
        "    train_dataset=train_dataset,\n",
        "    eval_dataset=test_dataset,\n",
        "    data_collator=data_collator,\n",
        "    compute_metrics=compute_metrics\n",
        ")\n",
        "\n",
        "trainer.train()"
      ]
    },
    {
      "cell_type": "code",
      "execution_count": null,
      "metadata": {
        "id": "qqtT2Rh33Xxh"
      },
      "outputs": [],
      "source": [
        "model.save_pretrained(\"caduceus_clinvar_multilabel\")\n",
        "tokenizer.save_pretrained(\"caduceus_clinvar_multilabel\")\n",
        "pd.Series(mlb.classes_).to_csv(\"disease_labels_mapping.csv\", index=False)"
      ]
    }
  ],
  "metadata": {
    "accelerator": "GPU",
    "colab": {
      "gpuType": "T4",
      "provenance": []
    },
    "kernelspec": {
      "display_name": "Python 3",
      "name": "python3"
    },
    "language_info": {
      "name": "python"
    }
  },
  "nbformat": 4,
  "nbformat_minor": 0
}
